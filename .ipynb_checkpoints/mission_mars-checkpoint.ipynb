{
 "cells": [
  {
   "cell_type": "code",
   "execution_count": 1,
   "metadata": {},
   "outputs": [],
   "source": [
    "# Dependencies\n",
    "from bs4 import BeautifulSoup as bs\n",
    "import requests\n",
    "import pandas as pd\n",
    "from splinter import Browser\n",
    "import re"
   ]
  },
  {
   "cell_type": "markdown",
   "metadata": {},
   "source": [
    "# Mars Nasa"
   ]
  },
  {
   "cell_type": "code",
   "execution_count": 2,
   "metadata": {},
   "outputs": [
    {
     "name": "stdout",
     "output_type": "stream",
     "text": [
      "Title: NASA's Curiosity Mars Rover Finds a Clay Cache\n",
      "Paragraph: The rover recently drilled two samples, and both showed the highest levels of clay ever found during the mission.\n"
     ]
    }
   ],
   "source": [
    "news_title = ''\n",
    "news_teaser = ''\n",
    "def mars_nasa():\n",
    "    # URL of page to be scraped\n",
    "    url = 'https://mars.nasa.gov/news/?page=1&per_page=40&order=publish_date+desc%2Ccreated_at+desc&search=&category=19%2C165%2C184%2C204&blank_scope=Latest'\n",
    "    # Retrieve page with the requests module\n",
    "    response = requests.get(url)\n",
    "    # Create BeautifulSoup object; parse with 'html.parser'\n",
    "    soup = bs(response.text, 'html.parser')\n",
    "    #print(soup.prettify())\n",
    "    news_title = soup.find('div', class_='content_title').text.strip()\n",
    "    news_teaser = soup.find('div', class_='rollover_description_inner').text.strip()\n",
    "    \n",
    "    print(\"Title: \" + str(news_title))\n",
    "    print(\"Paragraph: \" + str(news_teaser))\n",
    "    pass\n",
    "\n",
    "mars_nasa()"
   ]
  },
  {
   "cell_type": "markdown",
   "metadata": {},
   "source": [
    "# Feature Mars Image"
   ]
  },
  {
   "cell_type": "code",
   "execution_count": 3,
   "metadata": {},
   "outputs": [],
   "source": [
    "featured_image_url = ''"
   ]
  },
  {
   "cell_type": "code",
   "execution_count": 4,
   "metadata": {},
   "outputs": [
    {
     "name": "stdout",
     "output_type": "stream",
     "text": [
      "/usr/local/bin/chromedriver\r\n"
     ]
    }
   ],
   "source": [
    "#Activate driver\n",
    "# https://splinter.readthedocs.io/en/latest/drivers/chrome.html\n",
    "!which chromedriver"
   ]
  },
  {
   "cell_type": "code",
   "execution_count": 5,
   "metadata": {},
   "outputs": [],
   "source": [
    "#Start automated test software in Chrome\n",
    "executable_path = {'executable_path': '/usr/local/bin/chromedriver'}\n",
    "browser = Browser('chrome', **executable_path, headless=False)"
   ]
  },
  {
   "cell_type": "code",
   "execution_count": 6,
   "metadata": {},
   "outputs": [
    {
     "data": {
      "text/plain": [
       "'https://www.jpl.nasa.gov/spaceimages/images/largesize/PIA14762_hires.jpg'"
      ]
     },
     "execution_count": 6,
     "metadata": {},
     "output_type": "execute_result"
    }
   ],
   "source": [
    "def feature_image():\n",
    "    nasa_url = 'https://www.jpl.nasa.gov'\n",
    "    #images_url = 'https://www.jpl.nasa.gov/spaceimages/images/largesize/PIA16217_hires.jpg'\n",
    "    destiny = str(nasa_url) + \"/spaceimages/?search=&category=Mars\"\n",
    "    #Load source\n",
    "    browser.visit(destiny)\n",
    "    html_source = browser.html\n",
    "    #Click <Full image> pic\n",
    "    browser.find_by_id('full_image').click()\n",
    "    #Go to More Info\n",
    "    soup = bs(html_source, 'html.parser')\n",
    "    #print(soup.prettify())\n",
    "    buttons = soup.find('article', class_='carousel_item')\n",
    "    url_pic = '/spaceimages/images/largesize/'\n",
    "    id_pic = buttons.a['data-link'] + \":\"\n",
    "    #Get image ID cleaning id_pic string\n",
    "    m = re.search('=(.+?):', id_pic)\n",
    "    if m:\n",
    "        featured_image_url = nasa_url + url_pic + m.group(1) + '_hires.jpg'\n",
    "        browser.visit(featured_image_url)\n",
    "        \n",
    "    return featured_image_url\n",
    "\n",
    "feature_image()"
   ]
  },
  {
   "cell_type": "markdown",
   "metadata": {},
   "source": [
    "# Mars weather tweet"
   ]
  },
  {
   "cell_type": "code",
   "execution_count": 7,
   "metadata": {},
   "outputs": [
    {
     "data": {
      "text/plain": [
       "'InSight sol 249 (2019-08-09) low -98.8ºC (-145.8ºF) high -26.0ºC (-14.8ºF)\\nwinds from the SSE at 4.4 m/s (9.8 mph) gusting to 17.5 m/s (39.1 mph)\\npressure at 7.60 hPapic.twitter.com/jDOsvHTwYg'"
      ]
     },
     "execution_count": 7,
     "metadata": {},
     "output_type": "execute_result"
    }
   ],
   "source": [
    "mars_weather = \"\"\n",
    "def mars_tweet():\n",
    "    #URL to be scraped\n",
    "    url = \"https://twitter.com/MarsWxReport\"\n",
    "    # Retrieve page with the requests module\n",
    "    response = requests.get(url)\n",
    "    # Create BeautifulSoup object; parse with 'html.parser'\n",
    "    soup = bs(response.text, 'html.parser')\n",
    "    #print(soup.prettify())\n",
    "    tweet = soup.find_all('div', class_='js-tweet-text-container')\n",
    "    #Get last Mars weather report\n",
    "    for t in tweet:\n",
    "        mars_weather = t.p.text\n",
    "    \n",
    "    \n",
    "    return mars_weather\n",
    "    \n",
    "mars_tweet()"
   ]
  },
  {
   "cell_type": "markdown",
   "metadata": {},
   "source": [
    "# Mars facts"
   ]
  },
  {
   "cell_type": "code",
   "execution_count": 2,
   "metadata": {},
   "outputs": [
    {
     "data": {
      "text/plain": [
       "'<table border=\"1\" class=\"dataframe\">  <thead>    <tr style=\"text-align: right;\">      <th></th>      <th>value</th>    </tr>    <tr>      <th>description</th>      <th></th>    </tr>  </thead>  <tbody>    <tr>      <th>Diameter:</th>      <td>6,779 km</td>    </tr>    <tr>      <th>Mass:</th>      <td>6.39 × 10^23 kg</td>    </tr>    <tr>      <th>Moons:</th>      <td>2</td>    </tr>    <tr>      <th>Distance from Sun:</th>      <td>227,943,824 km</td>    </tr>    <tr>      <th>Length of Year:</th>      <td>687 Earth days</td>    </tr>    <tr>      <th>Temperature:</th>      <td>-153 to 20 °C</td>    </tr>  </tbody></table>'"
      ]
     },
     "execution_count": 2,
     "metadata": {},
     "output_type": "execute_result"
    }
   ],
   "source": [
    "mars_facts = \"\"\n",
    "def mars_facts_table():\n",
    "    #URL to be scraped\n",
    "    url = \"https://space-facts.com/mars/\"\n",
    "    #Retrieve table\n",
    "    table = pd.read_html(url)\n",
    "    #Assign table list to df\n",
    "    mars_df = table[0]\n",
    "    #Rename df columns\n",
    "    mars_df.columns = ['description', 'value', 'delete']\n",
    "    #Keep important columns\n",
    "    mars_df = mars_df[['description', 'value']]\n",
    "    #Set index up\n",
    "    mars_df.set_index('description', inplace=True)\n",
    "    #Convert df to html code and replace \\n\n",
    "    mars_facts = mars_df.to_html().replace(\"\\n\",'')\n",
    "\n",
    "    return mars_facts\n",
    "\n",
    "mars_facts_table()"
   ]
  },
  {
   "cell_type": "code",
   "execution_count": 3,
   "metadata": {},
   "outputs": [],
   "source": [
    "hemisphere_image_urls = [\n",
    "    {\"title\":\"Cerberus Hemisphere Enhanced\", \"img_url\":\"http://astropedia.astrogeology.usgs.gov/download/Mars/Viking/cerberus_enhanced.tif/full.jpg\"},\n",
    "    {\"title\":\"Valles Marineris Hemisphere Enhanced\", \"img_url\":\"http://astropedia.astrogeology.usgs.gov/download/Mars/Viking/valles_marineris_enhanced.tif/full.jpg\"},\n",
    "    {\"title\":\"Schiaparelli Hemisphere Enhanced\", \"img_url\":\"http://astropedia.astrogeology.usgs.gov/download/Mars/Viking/schiaparelli_enhanced.tif/full.jpg\"},\n",
    "    {\"title\":\"Syrtis Major Hemisphere Enhanced\", \"img_url\":\"http://astropedia.astrogeology.usgs.gov/download/Mars/Viking/syrtis_major_enhanced.tif/full.jpg\"}\n",
    "]"
   ]
  },
  {
   "cell_type": "code",
   "execution_count": null,
   "metadata": {},
   "outputs": [],
   "source": []
  }
 ],
 "metadata": {
  "kernelspec": {
   "display_name": "Python 3",
   "language": "python",
   "name": "python3"
  },
  "language_info": {
   "codemirror_mode": {
    "name": "ipython",
    "version": 3
   },
   "file_extension": ".py",
   "mimetype": "text/x-python",
   "name": "python",
   "nbconvert_exporter": "python",
   "pygments_lexer": "ipython3",
   "version": "3.7.1"
  }
 },
 "nbformat": 4,
 "nbformat_minor": 2
}
